{
 "cells": [
  {
   "attachments": {},
   "cell_type": "markdown",
   "metadata": {},
   "source": [
    "## Accessing Series Elements \n",
    "This can be done through the use of `indeces`/`labels`. "
   ]
  },
  {
   "attachments": {},
   "cell_type": "markdown",
   "metadata": {},
   "source": [
    "### Accessing Series Elements with Indexing\n",
    "To access elements in Series by using the index position, pass the index through the braces following the Series object. It will return the value/element that is located at that index position."
   ]
  },
  {
   "cell_type": "code",
   "execution_count": null,
   "metadata": {},
   "outputs": [],
   "source": [
    "import pandas as pd\n",
    "\n",
    "# Create a Series object from a list\n",
    "names = pd.Series(  ['Mark', 'Rita', 'Vicki', 'Justin', 'John', 'Michal'],\n",
    "                    index = ['a', 'b', 'c', 'd', 'e', 'f'])\n",
    "print(names)\n",
    "\n",
    "# Access first element of the Series object\n",
    "first_element = names[0]\n",
    "print('First Element: ', first_element)\n",
    "\n",
    "# Access 3rd element of the Series object\n",
    "third_element = names[2]\n",
    "print('Third Element: ', third_element)"
   ]
  },
  {
   "attachments": {},
   "cell_type": "markdown",
   "metadata": {},
   "source": [
    "###### **Note**: indexing in Python starts from 0, 1, 2, ... `n` so the first element in an array is 0 (don't ask for an element at an index location that doesn't exist like names[`-1`])"
   ]
  },
  {
   "attachments": {},
   "cell_type": "markdown",
   "metadata": {},
   "source": [
    "### Accessing Series Elements with Labels"
   ]
  },
  {
   "attachments": {},
   "cell_type": "markdown",
   "metadata": {},
   "source": [
    "This is similar to accessing elements with an index, only this time the `index` does not have to be a number, it just has to correspond with the element at that location in the series."
   ]
  },
  {
   "cell_type": "code",
   "execution_count": null,
   "metadata": {},
   "outputs": [],
   "source": [
    "# Create a Series object from a list\n",
    "names = pd.Series(  ['Mark', 'Rita', 'Vicki', 'Justin', 'John', 'Michal'],\n",
    "                    index = ['a', 'b', 'c', 'd', 'e', 'f'])\n",
    "print('Element with label \"d\" is : ')\n",
    "\n",
    "# Access element with label 'd'\n",
    "print( names['d'] )"
   ]
  },
  {
   "attachments": {},
   "cell_type": "markdown",
   "metadata": {},
   "source": [
    "### Accessing a subset of Series using Indexing/Label Ranges\n",
    "Ex. `seriesObject[start : end]`  \n",
    "The `start` and `end` markers can be an index *or* a label"
   ]
  },
  {
   "cell_type": "markdown",
   "metadata": {},
   "source": []
  },
  {
   "attachments": {},
   "cell_type": "markdown",
   "metadata": {},
   "source": []
  },
  {
   "cell_type": "code",
   "execution_count": null,
   "metadata": {},
   "outputs": [],
   "source": [
    "import pandas as pd\n",
    "# Create a Series object from a list\n",
    "names = pd.Series(  ['Mark', 'Rita', 'Vicki', 'Justin', 'John', 'Michal'],\n",
    "                    index = ['a', 'b', 'c', 'd', 'e', 'f'])\n",
    "print(names)\n",
    "print(\"\\nrange_of_names:\")\n",
    "\n",
    "# Select elements from index 1 to 3\n",
    "range_of_names = names[1:4]\n",
    "label_range_of_names = names['b':'d'] # includes the last label location unlike indexing\n",
    "\n",
    "# Display the subset of Series\n",
    "print(range_of_names)\n",
    "print(\"\\nlabel_range_of_names:\")\n",
    "print(label_range_of_names)"
   ]
  },
  {
   "attachments": {},
   "cell_type": "markdown",
   "metadata": {},
   "source": [
    "### Accessing Multiple Elements of Series by Specific Index Positions\n",
    "It is also possible to just pick out specific, non-sequential elements of a series and put them into a list that you can print.  \n",
    "Again, this also works with `label` names"
   ]
  },
  {
   "cell_type": "code",
   "execution_count": null,
   "metadata": {},
   "outputs": [],
   "source": [
    "import pandas as pd\n",
    "# Create a Series object from a list\n",
    "names = pd.Series(  ['Mark', 'Rita', 'Vicki', 'Justin', 'John', 'Michal'],\n",
    "                    index = ['a', 'b', 'c', 'd', 'e', 'f'])\n",
    "print(names)\n",
    "# Select elements at index position 2, 3 and 0 only\n",
    "\n",
    "few_names = names[[2, 3, 0]]\n",
    "# Display the subset of Series\n",
    "print(few_names)"
   ]
  },
  {
   "attachments": {},
   "cell_type": "markdown",
   "metadata": {},
   "source": [
    "### Changing elements in a Series\n",
    "You can simply access an element of a series with `labels`/`indices` and assign it a value to overried whatever element is currently in that location"
   ]
  },
  {
   "cell_type": "code",
   "execution_count": null,
   "metadata": {},
   "outputs": [],
   "source": [
    "import pandas as pd\n",
    "# Create a Series object from a list\n",
    "names = pd.Series(  ['Mark', 'Rita', 'Vicki', 'Justin', 'John', 'Michal'],\n",
    "                    index = ['a', 'b', 'c', 'd', 'e', 'f'])\n",
    "print(names)\n",
    "print(\"\\nmodified list:\")\n",
    "\n",
    "# Change the 3rd value of Series\n",
    "names[2] = 'Sanjay'\n",
    "\n",
    "# Change multiple values of Series\n",
    "names[3:6] = '(๑•̀ㅂ•́)و✧'\n",
    "\n",
    "# Display the Series\n",
    "print(names)"
   ]
  }
 ],
 "metadata": {
  "kernelspec": {
   "display_name": "Python 3",
   "language": "python",
   "name": "python3"
  },
  "language_info": {
   "codemirror_mode": {
    "name": "ipython",
    "version": 3
   },
   "file_extension": ".py",
   "mimetype": "text/x-python",
   "name": "python",
   "nbconvert_exporter": "python",
   "pygments_lexer": "ipython3",
   "version": "3.10.9 (tags/v3.10.9:1dd9be6, Dec  6 2022, 20:01:21) [MSC v.1934 64 bit (AMD64)]"
  },
  "orig_nbformat": 4,
  "vscode": {
   "interpreter": {
    "hash": "26de051ba29f2982a8de78e945f0abaf191376122a1563185a90213a26c5da77"
   }
  }
 },
 "nbformat": 4,
 "nbformat_minor": 2
}
