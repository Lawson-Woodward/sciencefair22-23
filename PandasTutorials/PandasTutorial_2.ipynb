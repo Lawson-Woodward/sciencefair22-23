{
 "cells": [
  {
   "attachments": {},
   "cell_type": "markdown",
   "metadata": {},
   "source": [
    "### What is a Panda Series?  \n",
    "A series is a one-dimensional data structure similar to that of an `array`, where each element can have its own `datatype` and is assigned a specific index `label`. Think of a series as simply a column in an excel spreadsheet. \n"
   ]
  },
  {
   "attachments": {},
   "cell_type": "markdown",
   "metadata": {},
   "source": [
    "First, import the Pandas module"
   ]
  },
  {
   "cell_type": "code",
   "execution_count": null,
   "metadata": {},
   "outputs": [],
   "source": [
    "import pandas as pd\n",
    "# pd is simply an alias of pandas "
   ]
  },
  {
   "attachments": {},
   "cell_type": "markdown",
   "metadata": {},
   "source": [
    "The Pandas module provides a function `Series()`, which accepts a sequence (array) as argument and returns a Series object containing the given elements. This function basically transforms your array into a special Series object. "
   ]
  },
  {
   "cell_type": "code",
   "execution_count": null,
   "metadata": {},
   "outputs": [],
   "source": [
    "# Create a Series object from a list\n",
    "names = pd.Series(['Mark', 'Rita', 'Vicki', 'Justin', 'John', 'Michal'])\n",
    "\n",
    "# Display the Pandas series object\n",
    "print(names)"
   ]
  },
  {
   "attachments": {},
   "cell_type": "markdown",
   "metadata": {},
   "source": [
    "If you want custom characters for index labels, simply add another parameter to the `Series()` method.\n",
    "###### make sure you type \"`index =`\" as this is the only name accepted as a paramter; also make sure your index has the same number of elements as your pd series"
   ]
  },
  {
   "cell_type": "code",
   "execution_count": null,
   "metadata": {},
   "outputs": [],
   "source": [
    "names = pd.Series(['Mark', 'Rita', 'Vicki', 'Justin', 'John', 'Michal'], \n",
    "                   index = ['a', 'b', 'c', 'd', 'e', 'f']               )\n",
    "print(names)"
   ]
  },
  {
   "attachments": {},
   "cell_type": "markdown",
   "metadata": {},
   "source": [
    "### Creating a Series Object from a Numpy Array\n",
    "You can pass through a numpy array as a parameter through the `pandas.Series()` function."
   ]
  },
  {
   "cell_type": "code",
   "execution_count": null,
   "metadata": {},
   "outputs": [],
   "source": [
    "import pandas as pd\n",
    "import numpy as np\n",
    "\n",
    "# Array of numbers\n",
    "values = np.array([100, 200, 300, 400, 500, 600])\n",
    "\n",
    "# Create a Series object from a NumPy Array\n",
    "seriesObj = pd.Series(  values,\n",
    "                        index = ['a', 'b', 'c', 'd', 'e', 'f'])\n",
    "# Display the Pandas series object\n",
    "print(seriesObj)"
   ]
  },
  {
   "attachments": {},
   "cell_type": "markdown",
   "metadata": {},
   "source": [
    "Note: The `dtype` or \"data type\" is represented as an integer (`int32`) in the Series object we created. However, you can manually set this as yet another parameter in the     `pd.Series()` function."
   ]
  },
  {
   "cell_type": "code",
   "execution_count": null,
   "metadata": {},
   "outputs": [],
   "source": [
    "# Array of numbers\n",
    "values = np.array([100, 200, 300, 400, 500, 600])\n",
    "\n",
    "# Create a Series object from a NumPy Array\n",
    "seriesObj = pd.Series(  values,\n",
    "                        index = ['a', 'b', 'c', 'd', 'e', 'f'],\n",
    "                        dtype = float                           )\n",
    "\n",
    "# Display the Pandas series object\n",
    "print(seriesObj)\n",
    "\n",
    "# You can also just display the datatype of the values in the series without modifying them\n",
    "print(seriesObj.dtype)"
   ]
  },
  {
   "attachments": {},
   "cell_type": "markdown",
   "metadata": {},
   "source": [
    "### Series Objects with Mixed Data Types\n",
    "It is perfectly acceptable to use more than one data type in a series (column) of data"
   ]
  },
  {
   "cell_type": "code",
   "execution_count": 27,
   "metadata": {},
   "outputs": [
    {
     "name": "stdout",
     "output_type": "stream",
     "text": [
      "0     Mark\n",
      "1      100\n",
      "2    Tokyo\n",
      "3    89.22\n",
      "dtype: object\n",
      "object\n"
     ]
    }
   ],
   "source": [
    "import pandas as pd\n",
    "\n",
    "# Create a Series object with mixed data type values\n",
    "seriesObj = pd.Series(  ['Mark', 100, 'Tokyo', 89.22])\n",
    "\n",
    "print(seriesObj) \n",
    "\n",
    "# returns a generic 'object' data type since more than one datatype is being used\n",
    "print(seriesObj.dtype)"
   ]
  }
 ],
 "metadata": {
  "kernelspec": {
   "display_name": "Python 3",
   "language": "python",
   "name": "python3"
  },
  "language_info": {
   "codemirror_mode": {
    "name": "ipython",
    "version": 3
   },
   "file_extension": ".py",
   "mimetype": "text/x-python",
   "name": "python",
   "nbconvert_exporter": "python",
   "pygments_lexer": "ipython3",
   "version": "3.10.9 (tags/v3.10.9:1dd9be6, Dec  6 2022, 20:01:21) [MSC v.1934 64 bit (AMD64)]"
  },
  "orig_nbformat": 4,
  "vscode": {
   "interpreter": {
    "hash": "26de051ba29f2982a8de78e945f0abaf191376122a1563185a90213a26c5da77"
   }
  }
 },
 "nbformat": 4,
 "nbformat_minor": 2
}
