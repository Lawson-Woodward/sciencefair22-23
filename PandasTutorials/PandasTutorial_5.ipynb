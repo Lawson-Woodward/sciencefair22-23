{
 "cells": [
  {
   "attachments": {},
   "cell_type": "markdown",
   "metadata": {},
   "source": [
    "## Add/Remove Series Elements\n",
    "### Adding/Merging Series together\n",
    "The Series object contains an `add()` method that allows us to merge two Series objects:  \n",
    "`Series.add(other, fill_value=None)`  \n",
    "\n",
    "It takes in another series object as an argument and merges all of its elements with the Series that is calling the function. Because these values are labeldin a series, elements with the same lables will be added together, but elements with different labels will not.\n"
   ]
  },
  {
   "cell_type": "code",
   "execution_count": null,
   "metadata": {},
   "outputs": [],
   "source": [
    "import pandas as pd\n",
    "# Create first Series object from a list\n"
   ]
  },
  {
   "cell_type": "code",
   "execution_count": null,
   "metadata": {},
   "outputs": [],
   "source": [
    "first = pd.Series(  [100, 200, 300, 400, 500],\n",
    "                    index = ['a', 'b', 'e', 'f', 'g'])\n",
    "\n",
    "# Create second Series object from a list\n",
    "second = pd.Series( [11, 12, 13, 14],\n",
    "                    index = ['a', 'b', 'h', 'i'])\n",
    "\n",
    "# Add two Series objects together\n",
    "total = first.add(second)\n",
    "\n",
    "# DIsplay the Series object\n",
    "print(total)"
   ]
  },
  {
   "attachments": {},
   "cell_type": "markdown",
   "metadata": {},
   "source": [
    "* As label ‘a’ is in both the Series, so values from both the Series got added together and final value became 111.\n",
    "* As label ‘b’ is in both the Series, so values from both the Series got added together and final value became 212.\n",
    "* As label ‘e’ is in first Series only, therefore it got added in new Series as NaN.\n",
    "* As label ‘f’ is in first Series only, therefore it got added in new Series as NaN.\n",
    "* As label ‘g’ is in first Series only, therefore it got added in new Series as NaN.\n",
    "* As label ‘h’ is in second Series only, therefore it got added in new Series as NaN.\n",
    "* As label ‘i’ is in second Series only, therefore it got added in new Series as NaN."
   ]
  },
  {
   "attachments": {},
   "cell_type": "markdown",
   "metadata": {},
   "source": [
    "But what if we wanted to keep the original values, and not have them be added as `NaN` instead?  <p> \n",
    "In order to do this, we would need to use the `fill_value` parameter of the `add()` function. Whatever value that is entered as the fill value will be substituted in place of `NaN`."
   ]
  },
  {
   "cell_type": "code",
   "execution_count": null,
   "metadata": {},
   "outputs": [],
   "source": [
    "import numpy as np\n",
    "\n",
    "# Create first Series object from a list\n",
    "first = pd.Series(  [100, 200, 300, 400, 500],\n",
    "                    index = ['a', 'b', 'e', 'f', 'g'])\n",
    "\n",
    "# Create second Series object from a list\n",
    "second = pd.Series( [11, 12, 13, 14, np.NaN],\n",
    "                    index = ['a', 'b', 'h', 'i', 'g'])\n",
    "\n",
    "# Add two Series objects together\n",
    "total = first.add(second, fill_value=0)\n",
    "\n",
    "# DIsplay the Series object\n",
    "print(total)"
   ]
  },
  {
   "attachments": {},
   "cell_type": "markdown",
   "metadata": {},
   "source": [
    "* As label ‘a’ is in both the Series, so values from both the Series got added together and final value became 111.\n",
    "* As label ‘b’ is in both the Series, so values from both the Series got added together and final value became 212.\n",
    "* As label ‘e’ is in first Series only, so for the second Series it used the default value from fill_value i.e. 0 and final value became 300.\n",
    "* As label ‘f’ is in first Series only, so for the second Series it used the default value from fill_value i.e. 0 and final value became 400.\n",
    "* As label ‘g’ is in first Series only, so for the second Series it used the default value from fill_value i.e. 0 and final value became 500.\n",
    "* As label ‘h’ is in second Series only, so for the first Series it used the default value from fill_value i.e. 0 and final value became 13.\n",
    "* As label ‘i’ is in second Series only, so for the first Series it used the default value from fill_value i.e. 0 and final value became 14."
   ]
  },
  {
   "attachments": {},
   "cell_type": "markdown",
   "metadata": {},
   "source": [
    "### Subtracting Two Series\n",
    "In Pandas, the Series provides a function sub() to merge two Series object:  \n",
    "`Series.sub(other, fill_value=None)`  \n",
    "\n",
    "It accepts another Series as argument and merges all the elements of that Series to the calling object. As Series values are labeled, elements with same label will be subtracted and values with unique labels will be NaN. It returns a new Series object with the merged content."
   ]
  },
  {
   "cell_type": "code",
   "execution_count": null,
   "metadata": {},
   "outputs": [],
   "source": [
    "# Create first Series object from a list\n",
    "first = pd.Series(  [100, 200, 300, 400, 500],\n",
    "                    index = ['a', 'b', 'e', 'f', 'g'])\n",
    "\n",
    "# Create a Series object from a list\n",
    "second = pd.Series( [11, 12, 13, 14],\n",
    "                    index = ['a', 'b', 'h', 'i'])\n",
    "\n",
    "# Subtract second Series from first Series\n",
    "finalObj = first.sub(second)\n",
    "\n",
    "# Display the Series object\n",
    "print(finalObj)"
   ]
  },
  {
   "attachments": {},
   "cell_type": "markdown",
   "metadata": {},
   "source": [
    "* As label ‘a’ is in both the Series, so value in second Series will subtracted from first and final value became 89.\n",
    "* As label ‘b’ is in both the Series, so value in second Series will subtracted from first and final value became 188.\n",
    "* As label ‘e’ is in first Series only, therefore it got added in new Series as NaN.\n",
    "* As label ‘f’ is in first Series only, therefore it got added in new Series as NaN.\n",
    "* As label ‘g’ is in first Series only, therefore it got added in new Series as NaN.\n",
    "* As label ‘h’ is in second Series only, therefore it got added in new Series as NaN.\n",
    "* As label ‘i’ is in second Series only, therefore it got added in new Series as NaN."
   ]
  },
  {
   "attachments": {},
   "cell_type": "markdown",
   "metadata": {},
   "source": [
    "The `fill_value` parameter of the `add()` function works similarly in subtraction between two Series objects as it does in addition."
   ]
  },
  {
   "cell_type": "code",
   "execution_count": null,
   "metadata": {},
   "outputs": [],
   "source": [
    "# Create first Series object from a list\n",
    "first = pd.Series(  [100, 200, 300, 400, 500],\n",
    "                    index = ['a', 'b', 'e', 'f', 'g'])\n",
    "\n",
    "# Create a Series object from a list\n",
    "second = pd.Series( [11, 12, 13, 14],\n",
    "                    index = ['a', 'b', 'h', 'i'])\n",
    "\n",
    "# Subtract second Series from first Series\n",
    "finalObj = first.sub(second, fill_value=0)\n",
    "\n",
    "# Display the Series object\n",
    "print(finalObj)"
   ]
  },
  {
   "attachments": {},
   "cell_type": "markdown",
   "metadata": {},
   "source": [
    "* As label ‘a’ is in both the Series, so value in second Series will subtracted from first and final value became 89.\n",
    "* As label ‘b’ is in both the Series, so value in second Series will subtracted from first and final value became 188.\n",
    "* As label ‘e’ is in first Series only, so for the second Series it used the default value from fill_value i.e. 0 and final value became 300.\n",
    "* As label ‘f’ is in first Series only, so for the second Series it used the default value from fill_value i.e. 0 and final value became 400.\n",
    "* As label ‘g’ is in first Series only, so for the second Series it used the default value from fill_value i.e. 0 and final value became 500.\n",
    "* As label ‘h’ is in second Series only, so for the first Series it used the default value from fill_value i.e. 0 and final value became -13.\n",
    "* As label ‘i’ is in second Series only, so for the first Series it used the default value from fill_value i.e. 0 and final value became -14."
   ]
  },
  {
   "attachments": {},
   "cell_type": "markdown",
   "metadata": {},
   "source": [
    "### Deleteing Values from a Series\n",
    "In Pandas, the Series object provides a function `drop()` to delete the elements based on index labels.It accepts a list of index labels and deletes the values associated with those labels."
   ]
  },
  {
   "cell_type": "code",
   "execution_count": null,
   "metadata": {},
   "outputs": [],
   "source": [
    "import pandas as pd\n",
    "\n",
    "# Create a Series object from a list\n",
    "names = pd.Series(  ['Mark', 'Rita', 'Vicki', 'Justin', 'John', 'Michal'],\n",
    "                    index = ['a', 'b', 'c', 'd', 'e', 'f'])\n",
    "print('Original Series: ')\n",
    "print(names)\n",
    "print(\"\\n\")\n",
    "\n",
    "# Delete elements at given index labels\n",
    "names = names.drop(['b', 'c', 'e'])\n",
    "print('Modified Series: ')\n",
    "print(names)"
   ]
  },
  {
   "attachments": {},
   "cell_type": "markdown",
   "metadata": {},
   "source": [
    "### Other Useful Methods"
   ]
  },
  {
   "attachments": {},
   "cell_type": "markdown",
   "metadata": {},
   "source": [
    "Summing all the values in a Series:"
   ]
  },
  {
   "cell_type": "code",
   "execution_count": null,
   "metadata": {},
   "outputs": [],
   "source": [
    "# Create a Series object from a list\n",
    "numbers = pd.Series([100, 200, 300, 400, 500],\n",
    "                    index = ['a', 'b', 'e', 'f', 'g'])\n",
    "print(numbers)\n",
    "\n",
    "# Get the sum of all numeric values in Series \n",
    "total = numbers.sum()\n",
    "print('Sum is: ', total)"
   ]
  },
  {
   "attachments": {},
   "cell_type": "markdown",
   "metadata": {},
   "source": [
    "Obtaining the Max Values in a Series:"
   ]
  },
  {
   "cell_type": "code",
   "execution_count": null,
   "metadata": {},
   "outputs": [],
   "source": [
    "# Create a Series object from a list\n",
    "numbers = pd.Series([110, 22, 78, 890, 200, 50, 600])\n",
    "print(numbers)\n",
    "\n",
    "# Get largest value from the Series\n",
    "max_value = numbers.max()\n",
    "print('Maximum value is: ', max_value)"
   ]
  }
 ],
 "metadata": {
  "kernelspec": {
   "display_name": "tf",
   "language": "python",
   "name": "python3"
  },
  "language_info": {
   "codemirror_mode": {
    "name": "ipython",
    "version": 3
   },
   "file_extension": ".py",
   "mimetype": "text/x-python",
   "name": "python",
   "nbconvert_exporter": "python",
   "pygments_lexer": "ipython3",
   "version": "3.10.8"
  },
  "orig_nbformat": 4,
  "vscode": {
   "interpreter": {
    "hash": "114b31d85d4089baf4c997d981f398d0e90056ddd0589c98a1fe707d5b08ed11"
   }
  }
 },
 "nbformat": 4,
 "nbformat_minor": 2
}
