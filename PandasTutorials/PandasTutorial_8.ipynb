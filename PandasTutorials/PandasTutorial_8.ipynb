{
 "cells": [
  {
   "attachments": {},
   "cell_type": "markdown",
   "metadata": {},
   "source": [
    "## DataFrame.iloc[]\n",
    "In Pandas, the DataFrame provides a property `iloc[]` (not the same as `loc[]`), to select the subset of a DataFrame based on position indexing. This subset’s spread will be decided based on the provided index positions of rows & columns. We can select single or multiple rows & columns using it.\n",
    "\n",
    "Syntax:  \n",
    "```\n",
    "Dataframe.iloc[row_segment , column_segment]\n",
    "Dataframe.iloc[row_segment]\n",
    "```\n",
    "\n",
    "The `column_segment` argument is optional. Therefore, if column_segment is not provided, iloc [] will select the subset of Dataframe based on row_segment argument only.\n",
    "\n"
   ]
  },
  {
   "attachments": {},
   "cell_type": "markdown",
   "metadata": {},
   "source": [
    "### `row_segement`:\n",
    "* It contains information about the index positions of rows to be selected. Its value can be the folllowing:\n",
    "* An integer like N.\n",
    "  * In this case, it selects the single row at index position N.\n",
    "  * For example, if 2 only is given, then only the 3rd row of the Dataframe will be selected because indexing starts from 0.\n",
    "* A list/array of integers like [a, b, c].\n",
    "  * In this case, multiple rows will be selected based on index positions in the given list.\n",
    "  * For example, if [2, 4, 0] is given as argument in row segment, then 3rd, 5th and 1st row of the Dataframe will be selected.\n",
    "* A slice object with ints like -> a:e .\n",
    "  * This case will select multiple rows from index position a to e-1.\n",
    "  * For example, if 2:5 is provided in the row segment of iloc[], it will select a range of rows from index positions 2 to 4.\n",
    "* For selecting all rows, provide the value ( `:` )\n",
    "* A boolean sequence of same size as number of rows.\n",
    "  * In this case, it will select only those rows for which the corresponding value in boolean array/list is `True`.\n",
    "* A callable function :\n",
    "  * It can be a lambda function or general function, which accepts the calling dataframe as an argument and returns valid output for indexing. This returned output should match \n",
    "with any of the indexing arguments mentioned above."
   ]
  },
  {
   "attachments": {},
   "cell_type": "markdown",
   "metadata": {},
   "source": [
    "### `column_segement`:\n",
    "* It is optional.\n",
    "* It contains the information about the index positions of columns to be selected. Its value can be the following:\n",
    "* An integer like N.\n",
    "  * In this case a single column at index position N will be selected.\n",
    "  * For example, if 3 is given, only the 4th column of the Dataframe will be selected because indexing starts from 0.\n",
    "* A list/array of integers like [a, b, c].\n",
    "  * In this case, multiple columns will be selected i.e. columns at index positions given in list.\n",
    "  * For example, if [2, 4, 0] is given as argument in column segment, then 3rd, 5th and 1st column of the Dataframe will be selected.\n",
    "* A slice object with ints like a:e.\n",
    "  * In this case it will select multiple columns index position a to e-1.\n",
    "  * For example, if 2:5 is given in the column segment of iloc[], it will select a range of columns from index positions 2 to 4.\n",
    "* For selecting all columns, provide the value ( : )\n",
    "* A boolean sequence of the same size as the number of columns.\n",
    "  * This case will select only those columns for which the corresponding value in the boolean array/list is True.\n",
    "* A callable function :\n",
    "  * It can be a lambda function or general function, which accepts the calling dataframe as an argument and returns valid output for indexing. This returned output should match \n",
    "  with any of the indexing arguments mentioned above."
   ]
  },
  {
   "attachments": {},
   "cell_type": "markdown",
   "metadata": {},
   "source": [
    "### `Returns`:\n",
    "`iloc[]` (integer location) returns a reference to the selected subset of the dataframe based on index positions specified in row and column segments.\n",
    "Also, if column_segment is not provided, it returns the subset of the Dataframe containing only selected rows based on the row_segment argument."
   ]
  },
  {
   "attachments": {},
   "cell_type": "markdown",
   "metadata": {},
   "source": [
    "### `Error scenarios`:\n",
    "`Dataframe.iloc[row_sgement, column_segement]` will give `IndexError`, if any request index position is out of bounds.\n",
    "\n",
    "\n",
    "\n"
   ]
  },
  {
   "cell_type": "code",
   "execution_count": 1,
   "metadata": {},
   "outputs": [
    {
     "name": "stdout",
     "output_type": "stream",
     "text": [
      "    Name  Age       City    Country\n",
      "a   jack   34     Sydeny  Australia\n",
      "b   Riti   30      Delhi      India\n",
      "c  Vikas   31     Mumbai      India\n",
      "d  Neelu   32  Bangalore      India\n",
      "e   John   16   New York         US\n",
      "f   Mike   17  las vegas         US\n"
     ]
    }
   ],
   "source": [
    "import pandas as pd\n",
    "\n",
    "# List of Tuples\n",
    "students = [('jack',  34, 'Sydeny',    'Australia'),\n",
    "            ('Riti',  30, 'Delhi',     'India'),\n",
    "            ('Vikas', 31, 'Mumbai',    'India'),\n",
    "            ('Neelu', 32, 'Bangalore', 'India'),\n",
    "            ('John',  16, 'New York',   'US'),\n",
    "            ('Mike',  17, 'las vegas',  'US')]\n",
    "\n",
    "# Create a DataFrame from list of tuples\n",
    "df = pd.DataFrame( students,\n",
    "                   columns=['Name', 'Age', 'City', 'Country'],\n",
    "                   index=['a', 'b', 'c', 'd', 'e', 'f'])\n",
    "                   \n",
    "print(df)"
   ]
  },
  {
   "attachments": {},
   "cell_type": "markdown",
   "metadata": {},
   "source": [
    "## `iloc[]` Examples\n",
    "\n",
    "*Select a few rows from Dataframe, but include all column values*:  \n",
    "https://thispointer.com/pandas-dataframe-iloc/#select-rows\n",
    "\n",
    "*Select a few columns from Dataframe, but include all row values for those columns*:  \n",
    "https://thispointer.com/pandas-dataframe-iloc/#select-columns\n",
    "\n",
    "*Select a subset of Dataframe with few rows and columns*:  \n",
    "https://thispointer.com/pandas-dataframe-iloc/#select-subset-of-dataframe"
   ]
  },
  {
   "attachments": {},
   "cell_type": "markdown",
   "metadata": {},
   "source": [
    "### Select a Subset of a DataFrame Based on row/column Indices\n",
    "* Rows at index positions 1 and 3.\n",
    "* Columns at index positions 2 and 1.\n",
    "\n",
    "Returns the information at rows 1 and 3 just like normal, only this time that \"information\" is decided by the specific columns"
   ]
  },
  {
   "cell_type": "code",
   "execution_count": null,
   "metadata": {},
   "outputs": [],
   "source": [
    "# Select sub set of Dataframe based on row/column indices in list\n",
    "subsetDf = df.iloc[[1,3],[2,1]]\n",
    "\n",
    "print(subsetDf)"
   ]
  },
  {
   "attachments": {},
   "cell_type": "markdown",
   "metadata": {},
   "source": [
    "### Changing the values of a DataFrame using `iloc[]`\n",
    "`iloc[]` returns a view object, so **any changes made in the returned subset will be reflected in the original DataFrame object** (very similar to `loc[]`)."
   ]
  },
  {
   "cell_type": "code",
   "execution_count": null,
   "metadata": {},
   "outputs": [],
   "source": [
    "print(df)\n",
    "\n",
    "# change the value of 3rd row of Dataframe\n",
    "df.iloc[2] = 0\n",
    "\n",
    "print(df)"
   ]
  }
 ],
 "metadata": {
  "kernelspec": {
   "display_name": "tf",
   "language": "python",
   "name": "python3"
  },
  "language_info": {
   "codemirror_mode": {
    "name": "ipython",
    "version": 3
   },
   "file_extension": ".py",
   "mimetype": "text/x-python",
   "name": "python",
   "nbconvert_exporter": "python",
   "pygments_lexer": "ipython3",
   "version": "3.10.8 | packaged by conda-forge | (main, Nov 24 2022, 14:07:00) [MSC v.1916 64 bit (AMD64)]"
  },
  "orig_nbformat": 4,
  "vscode": {
   "interpreter": {
    "hash": "114b31d85d4089baf4c997d981f398d0e90056ddd0589c98a1fe707d5b08ed11"
   }
  }
 },
 "nbformat": 4,
 "nbformat_minor": 2
}
