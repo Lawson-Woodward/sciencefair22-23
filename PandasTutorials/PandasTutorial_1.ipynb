{
 "cells": [
  {
   "attachments": {},
   "cell_type": "markdown",
   "metadata": {},
   "source": [
    "* Pandas is a Python library for loading, cleaning, and organizing a variety of data to prime it for a machine learning algorithm and analysis "
   ]
  },
  {
   "attachments": {},
   "cell_type": "markdown",
   "metadata": {},
   "source": [
    "<font size= \"6\">Installing Pandas"
   ]
  },
  {
   "attachments": {},
   "cell_type": "markdown",
   "metadata": {},
   "source": [
    "In your terminal, type:\n",
    "`pip install pandas`\n",
    "\n",
    "And once it is installed, type:\n",
    "`pip show pandas`\n",
    "\n",
    "The package information should be displayed as:\n",
    "``` \n",
    "Name: pandas\n",
    "Version: 1.0.5\n",
    "Summary: Powerful data structures for data analysis, time series, and statistics\n",
    "Home-page: https://pandas.pydata.org\n",
    "License: BSD\n",
    "Location: c:\\python\\python37\\lib\\site-packages\n",
    "Requires: numpy, pytz, python-dateutil\n",
    "```"
   ]
  }
 ],
 "metadata": {
  "kernelspec": {
   "display_name": "tf",
   "language": "python",
   "name": "python3"
  },
  "language_info": {
   "codemirror_mode": {
    "name": "ipython",
    "version": 3
   },
   "file_extension": ".py",
   "mimetype": "text/x-python",
   "name": "python",
   "nbconvert_exporter": "python",
   "pygments_lexer": "ipython3",
   "version": "3.10.8 | packaged by conda-forge | (main, Nov 24 2022, 14:07:00) [MSC v.1916 64 bit (AMD64)]"
  },
  "orig_nbformat": 4,
  "vscode": {
   "interpreter": {
    "hash": "114b31d85d4089baf4c997d981f398d0e90056ddd0589c98a1fe707d5b08ed11"
   }
  }
 },
 "nbformat": 4,
 "nbformat_minor": 2
}
