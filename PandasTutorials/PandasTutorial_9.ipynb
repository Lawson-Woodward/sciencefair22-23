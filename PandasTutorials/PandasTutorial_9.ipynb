{
 "cells": [
  {
   "attachments": {},
   "cell_type": "markdown",
   "metadata": {},
   "source": [
    "## Filter DataFrame Rows\n",
    "It is also possible to select rows of our DataFrame based on special conditions."
   ]
  },
  {
   "attachments": {},
   "cell_type": "markdown",
   "metadata": {},
   "source": [
    "### Select DataFrame rows based on conditions\n"
   ]
  },
  {
   "attachments": {},
   "cell_type": "markdown",
   "metadata": {},
   "source": [
    "Suppose we have a DataFrame:\n",
    "```\n",
    "   Name Product  Sale\n",
    "0   Mark  Apples    44\n",
    "1   Aadi  Mangos    31\n",
    "2  Shaun  Grapes    30\n",
    "3   Simi  Apples    32\n",
    "4   Luka  Mangos    43\n",
    "5   Mike  Apples    45\n",
    "6   Arun  Mangos    35\n",
    "7   Riti  Grapes    37\n",
    "```\n",
    "\n",
    "Now we want to select only those rows in this DataFrame, where the column ‘Product’ has only the value ‘Apples’:\n",
    "\n",
    "```\n",
    "   Name Product  Sale\n",
    "0  Mark  Apples    44\n",
    "3  Simi  Apples    32\n",
    "5  Mike  Apples    45\n",
    "```\n",
    "\n"
   ]
  },
  {
   "cell_type": "code",
   "execution_count": null,
   "metadata": {},
   "outputs": [],
   "source": [
    "import pandas as pd\n",
    "\n",
    "# List of Tuples\n",
    "students = [('Mark',  'Apples', 44),\n",
    "            ('Aadi',  'Mangos', 31),\n",
    "            ('Shaun', 'Grapes', 30),\n",
    "            ('Simi',  'Apples', 32),\n",
    "            ('Luka',  'Mangos', 43),\n",
    "            ('Mike',  'Apples', 45),\n",
    "            ('Arun',  'Mangos', 35),\n",
    "            ('Riti',  'Grapes', 37),]\n",
    "\n",
    "# Create a DataFrame object\n",
    "df = pd.DataFrame(  students,\n",
    "                    columns = ['Name' , 'Product', 'Sale']) \n",
    "\n",
    "# Display the DataFrame\n",
    "print(df)\n",
    "\n",
    "# Select the 'Product' column and apply a condition to the entire thing\n",
    "boolSeries = df['Product'] == 'Apples'\n",
    "\n",
    "# Boolean Series that returns a series object consisting of True values where our condition evaluates to true (i.e. if the row has an 'apple' under the 'product' column)\n",
    "print(boolSeries)"
   ]
  },
  {
   "attachments": {},
   "cell_type": "markdown",
   "metadata": {},
   "source": [
    "Now, if we pass this `boolean Series` to the subscript operator of the DataFrame, then it will select only those rows from the DataFrame for which value in the bool Series is `True`"
   ]
  },
  {
   "cell_type": "code",
   "execution_count": null,
   "metadata": {},
   "outputs": [],
   "source": [
    "# Select only those rows where,\n",
    "# column 'Product' has value 'Apples'\n",
    "df = df[df['Product'] == 'Apples']\n",
    "\n",
    "# Display the DataFrame\n",
    "print(df)"
   ]
  },
  {
   "attachments": {},
   "cell_type": "markdown",
   "metadata": {},
   "source": [
    "### Select DataFrame rows Based on Multiple Conditions\n",
    "Just like in the above solution, we can also apply **multiple conditions** to filter the contents of the DataFrame\n"
   ]
  },
  {
   "cell_type": "code",
   "execution_count": null,
   "metadata": {},
   "outputs": [],
   "source": [
    "# Select only those rows where sale\n",
    "# value is between 30 and 40\n",
    "df = df[(df['Sale'] > 30) & (df['Sale'] < 40)]\n",
    "\n",
    "# Display the DataFrame\n",
    "print(df)"
   ]
  },
  {
   "attachments": {},
   "cell_type": "markdown",
   "metadata": {},
   "source": [
    "* df[‘Sale’] > 30 gave a Boolean Series, which contains the True where values are greater than 30 only\n",
    "* df[‘Sale’] < 40 gave a Boolean Series, which includes the True where values are less than 40.\n",
    "\n",
    "Then we applied the boolean & operator on these two boolean Series. It will select True values only at those indices where both the conditions are True. Then we passed that **final** boolean Series to the `[]` operator of our DataFrame. It returned only those rows from the DataFrame for which value in the **final** Bool series was `True`."
   ]
  }
 ],
 "metadata": {
  "kernelspec": {
   "display_name": "tf",
   "language": "python",
   "name": "python3"
  },
  "language_info": {
   "codemirror_mode": {
    "name": "ipython",
    "version": 3
   },
   "file_extension": ".py",
   "mimetype": "text/x-python",
   "name": "python",
   "nbconvert_exporter": "python",
   "pygments_lexer": "ipython3",
   "version": "3.10.8 | packaged by conda-forge | (main, Nov 24 2022, 14:07:00) [MSC v.1916 64 bit (AMD64)]"
  },
  "orig_nbformat": 4,
  "vscode": {
   "interpreter": {
    "hash": "114b31d85d4089baf4c997d981f398d0e90056ddd0589c98a1fe707d5b08ed11"
   }
  }
 },
 "nbformat": 4,
 "nbformat_minor": 2
}
