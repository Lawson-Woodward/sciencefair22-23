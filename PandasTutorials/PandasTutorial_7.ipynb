{
 "cells": [
  {
   "attachments": {},
   "cell_type": "markdown",
   "metadata": {},
   "source": [
    "## DataFrame.loc[]\n",
    "In Pandas, the Dataframe provides a property `loc[]`, to select the __subset of a DataFrame based on row and column names/labels__. We can choose single or multiple rows/columns using it.\n",
    "\n",
    "Syntax:\n",
    "```\n",
    "Dataframe.loc[row_segment , column_segment]\n",
    "Dataframe.loc[row_segment]\n",
    "```\n",
    "\n",
    "###### The column_segment argument is optional. Therefore, if column_segment is not provided, loc [] will select the subset of Dataframe based on row_segment argument only."
   ]
  },
  {
   "cell_type": "code",
   "execution_count": 2,
   "metadata": {},
   "outputs": [
    {
     "name": "stdout",
     "output_type": "stream",
     "text": [
      "    Name  Age       City    Country\n",
      "a   jack   34     Sydeny  Australia\n",
      "b   Riti   30      Delhi      India\n",
      "c  Vikas   31     Mumbai      India\n",
      "d  Neelu   32  Bangalore      India\n",
      "e   John   16   New York         US\n",
      "f   Mike   17  las vegas         US\n"
     ]
    }
   ],
   "source": [
    "import pandas as pd\n",
    "\n",
    "# List of Tuples\n",
    "students = [('jack',  34, 'Sydeny',    'Australia'),\n",
    "            ('Riti',  30, 'Delhi',     'India'),\n",
    "            ('Vikas', 31, 'Mumbai',    'India'),\n",
    "            ('Neelu', 32, 'Bangalore', 'India'),\n",
    "            ('John',  16, 'New York',   'US'),\n",
    "            ('Mike',  17, 'las vegas',  'US')]\n",
    "\n",
    "# Create a DataFrame from list of tuples\n",
    "df = pd.DataFrame( students,\n",
    "                   columns=['Name', 'Age', 'City', 'Country'],\n",
    "                   index=['a', 'b', 'c', 'd', 'e', 'f'])\n",
    "                   \n",
    "print(df)"
   ]
  },
  {
   "attachments": {},
   "cell_type": "markdown",
   "metadata": {},
   "source": [
    "### Row_segement\n",
    "* It contains information about the rows to be selected. Its value can be,\n",
    "* A single label like ‘A’ or 7 etc.\n",
    "* In this case, it selects the single row with given label name.\n",
    "* For example, if ‘B’ only is given, then only the row with label ‘B’ is selected from Dataframe.\n",
    "* A list/array of label names like, [‘B’, ‘E’, ‘H’]\n",
    "* In this case, multiple rows will be selected based on row labels given in the list.\n",
    "* For example, if [‘B’, ‘E’, ‘H’] is given as argument in row segment, then the rows with label name ‘B’, ‘E’ and ‘H’ will be selected.\n",
    "* A slice object with ints like -> a:e .\n",
    "* This case will select multiple rows i.e. from row with label a to one before the row with label e.\n",
    "* For example, if ‘B’:’E’ is provided in the row segment of loc[], it will select a range of rows from label ‘B’ to one before label ‘E’\n",
    "* For selecting all rows, provide the value ( : )\n",
    "* A boolean sequence of same size as number of rows.\n",
    "* In this case, it will select only those rows for which the corresponding value in boolean array/list is True.\n",
    "* A callable function :\n",
    "* It can be a lambda function or general function, which accepts the calling dataframe as an argument and returns valid label names in any one of the formats mentioned above."
   ]
  },
  {
   "attachments": {},
   "cell_type": "markdown",
   "metadata": {},
   "source": [
    "### Column_segement\n",
    "* It is optional.\n",
    "* It contains information about the columns to be selected. Its value can be,\n",
    "* A single label like ‘A’ or 7 etc.\n",
    "* In this case, it selects the single column with given label name.\n",
    "* For example, if ‘Age’ only is given, then only the column with label ‘Age’ is selected from Dataframe.\n",
    "* A list/array of label names like, [‘Name’, ‘Age’, ‘City’]\n",
    "* In this case, multiple columns will be selected based on column labels given in the list.\n",
    "* For example, if [‘Name’, ‘Age’, ‘City’] is given as argument in column segment, then the columns with label names ‘Name’, ‘Age’, and ‘City’ will be selected.\n",
    "* A slice object with ints like -> a:e .\n",
    "* This case will select multiple columns i.e. from column with label a to one before the column with label e.\n",
    "* For example, if ‘Name’:’City’ is provided in the column segment of loc[], it will select a range of columns from label ‘Name’ to one before label ‘City’\n",
    "* For selecting all columns, provide the value ( : )\n",
    "* A boolean sequence of same size as number of columns.\n",
    "* In this case, it will select only those columns for which the corresponding value in boolean array/list is True.\n",
    "* A callable function :\n",
    "* It can be a lambda function or general function that accepts the calling dataframe as an argument and returns valid label names in any one of the formats mentioned above."
   ]
  },
  {
   "attachments": {},
   "cell_type": "markdown",
   "metadata": {},
   "source": [
    "### Returns\n",
    "It returns a reference to the selected subset of the dataframe based on the provided row and column names.  \n",
    "* If `column_segment` is not provided, it returns the subset of the `DataFrame` containing only selected rows based on the row_segment argument."
   ]
  },
  {
   "attachments": {},
   "cell_type": "markdown",
   "metadata": {},
   "source": [
    "### Error Scenarios\n",
    "`Dataframe.loc[row_sgement, column_segement]` will give a `KeyError`, if any label name provided is invalid."
   ]
  },
  {
   "attachments": {},
   "cell_type": "markdown",
   "metadata": {},
   "source": [
    "## Select a Few Rows from DataFrame: Include All Column Values\n"
   ]
  },
  {
   "attachments": {},
   "cell_type": "markdown",
   "metadata": {},
   "source": [
    "### Select a Single Row of the Dataframe\n",
    "To select a row from the dataframe, pass the row name to the `loc[]`. For example,"
   ]
  },
  {
   "cell_type": "code",
   "execution_count": null,
   "metadata": {},
   "outputs": [],
   "source": [
    "# Select row at with label name '2'\n",
    "row = df.loc['c']\n",
    "\n",
    "print(row)"
   ]
  },
  {
   "attachments": {},
   "cell_type": "markdown",
   "metadata": {},
   "source": [
    "###### This row `c` is a Series object in and of itself. It returned the row with label name `c` from the Dataframe, as a Series object."
   ]
  },
  {
   "attachments": {},
   "cell_type": "markdown",
   "metadata": {},
   "source": [
    "### Select Multiple Rows from DataFrame Based on List of Names\n",
    "You can pass a list of row label names to the `row_segment` of `loc[]`. It will return a subset of the DataFrame containing **only** mentioned rows."
   ]
  },
  {
   "cell_type": "code",
   "execution_count": null,
   "metadata": {},
   "outputs": [],
   "source": [
    "# Select multiple rows from Dataframe by label names\n",
    "subsetDf = df.loc[ ['c', 'f', 'a']]\n",
    "\n",
    "print(subsetDf)"
   ]
  },
  {
   "attachments": {},
   "cell_type": "markdown",
   "metadata": {},
   "source": [
    "###### It returned a subset of the Dataframe containing only three rows with labels ‘c’, ‘f’ and ‘a’.\n",
    "\n"
   ]
  },
  {
   "attachments": {},
   "cell_type": "markdown",
   "metadata": {},
   "source": [
    "### Select Multiple Rows from DataFrame Based on Name Range\n",
    "Pass an name range -> `start:end` in row segment of loc. It will return a `subset` of the DataFrame containing **only** the rows from name start to end from the original dataframe. \n"
   ]
  },
  {
   "cell_type": "code",
   "execution_count": null,
   "metadata": {},
   "outputs": [],
   "source": [
    "# Select rows of Dataframe based on row label range\n",
    "subsetDf = df.loc[ 'b' : 'f']\n",
    "\n",
    "print(subsetDf)"
   ]
  },
  {
   "attachments": {},
   "cell_type": "markdown",
   "metadata": {},
   "source": [
    "### Select Rows of DataFrame Based on Boolean Array\n",
    "Pass a `boolean array/list` in the row segment of `loc[]`. It will return a subset of the Dataframe containing only the rows for which the corresponding value in the boolean array/list is `True`."
   ]
  },
  {
   "cell_type": "code",
   "execution_count": 3,
   "metadata": {},
   "outputs": [
    {
     "name": "stdout",
     "output_type": "stream",
     "text": [
      "    Name  Age      City    Country\n",
      "a   jack   34    Sydeny  Australia\n",
      "c  Vikas   31    Mumbai      India\n",
      "e   John   16  New York         US\n"
     ]
    }
   ],
   "source": [
    "# Select rows of Dataframe based on bool array\n",
    "subsetDf = df.loc[ [True, False, True, False, True, False]]\n",
    "\n",
    "print(subsetDf)"
   ]
  },
  {
   "attachments": {},
   "cell_type": "markdown",
   "metadata": {},
   "source": [
    "### Select Rows of Dataframe Based on Callable Function\n",
    "Create a lambda function that accepts a `DataFrame` as an argument, applies a condition on a *column* (ex. Age), and returns a `bool list`. This bool list will contain True **only** for those rows where the condition is True. If you pass that lambda function to `loc[]`, only those rows will be selected for which condition returns True in the list. \n",
    "\n",
    "For example, select only those rows where column `‘Age’` has a value of more than `25`:\n"
   ]
  },
  {
   "cell_type": "code",
   "execution_count": null,
   "metadata": {},
   "outputs": [],
   "source": [
    "# Select rows of Dataframe based on callable function\n",
    "subsetDf = df.loc[ lambda x : (x['Age'] > 25).tolist()]\n",
    "\n",
    "print(subsetDf)"
   ]
  },
  {
   "attachments": {},
   "cell_type": "markdown",
   "metadata": {},
   "source": [
    "## Select Multiple Columns from a DataFrame\n",
    "You can add the `':'` in the *row* segment argument of `DataFrame.loc[]` to select all rows (which is what we want), but only certain columns (ex. Age).\n"
   ]
  },
  {
   "attachments": {},
   "cell_type": "markdown",
   "metadata": {},
   "source": [
    "### Select a Single Column of a DataFrame\n",
    "To select a column from the DataFrame, pass the column name to the column segment of the `loc[]` method."
   ]
  },
  {
   "cell_type": "code",
   "execution_count": null,
   "metadata": {},
   "outputs": [],
   "source": [
    "# Select single column from Dataframe by column name\n",
    "column = df.loc[:, 'Age']\n",
    "\n",
    "print(column) # Returns a single column as a series object"
   ]
  },
  {
   "attachments": {},
   "cell_type": "markdown",
   "metadata": {},
   "source": [
    "### Select Multiple Columns from DataFrame Based on List/Range of Names\n",
    "Pass a list of `column names` to the column segment of `loc[]`. It will return a subset of the Dataframe containing only mentioned columns. \n"
   ]
  },
  {
   "cell_type": "code",
   "execution_count": null,
   "metadata": {},
   "outputs": [],
   "source": [
    "# Select multiple columns from Dataframe based on LIST \"[array]\" of names\n",
    "subsetDf = df.loc[:, ['Age', 'City', 'Name']]\n",
    "\n",
    "print(subsetDf)\n",
    "\n",
    "# Select multiple coolumns from a DataFrame based on a RANGE of names\n",
    "subsetDf = df.loc[:, 'Name' : 'City']\n",
    "print (subsetDf)"
   ]
  },
  {
   "attachments": {},
   "cell_type": "markdown",
   "metadata": {},
   "source": [
    "### Select Columns of DataFrame Based on Bool Array\n",
    "Pass a boolean array/list in the column segment of `loc[]`. It will return a subset of the DataFrame containing **only** the columns for which the corresponding value in the boolean array/list is True.\n",
    "\n",
    "###### Note: we still include the `':'` to make sure all the columns are selected (think of the two parameters as x (row) and y(column) coordinates)\n"
   ]
  },
  {
   "cell_type": "code",
   "execution_count": null,
   "metadata": {},
   "outputs": [],
   "source": [
    "# Select columns of Dataframe based on bool array\n",
    "subsetDf = df.iloc[:, [True, True, False, False]]\n",
    "\n",
    "print(subsetDf)"
   ]
  },
  {
   "attachments": {},
   "cell_type": "markdown",
   "metadata": {},
   "source": [
    "It is important to remember that **the boolean list must be the same length as the rows or columns** (depending on which segment of `loc[]` you pass it through)"
   ]
  },
  {
   "attachments": {},
   "cell_type": "markdown",
   "metadata": {},
   "source": [
    "## Select a Subset of DataFrame\n",
    "Provide the row *and* column segment arguments of the `DataFrame.loc[]`. It will return a subset of a DataFrame based on the row and column names provided in row and column segments of `loc[]`.\n",
    "\n"
   ]
  },
  {
   "attachments": {},
   "cell_type": "markdown",
   "metadata": {},
   "source": [
    "### Select a Cell value from Dataframe\n",
    "To select a single cell value from the dataframe, just pass the row and column name in the row and column segment of `loc[]`. "
   ]
  },
  {
   "cell_type": "code",
   "execution_count": null,
   "metadata": {},
   "outputs": [],
   "source": [
    "# Select a Cell value from Dataframe by row and column name\n",
    "cellValue = df.loc['c','Name']\n",
    "\n",
    "print(cellValue)"
   ]
  },
  {
   "attachments": {},
   "cell_type": "markdown",
   "metadata": {},
   "source": [
    "### Select a Subset of a DataFrame Based on row/column Names in List\n",
    "You can provide multiple row and column specification parameters in the `loc[]` method to retrieve a subset from the DataFrame.\n"
   ]
  },
  {
   "cell_type": "code",
   "execution_count": null,
   "metadata": {},
   "outputs": [],
   "source": [
    "# Select sub set of Dataframe based on row/column indices in list\n",
    "subsetDf = df.loc[['b', 'd', 'f'],['Name', 'City']]\n",
    "\n",
    "print(subsetDf)"
   ]
  },
  {
   "attachments": {},
   "cell_type": "markdown",
   "metadata": {},
   "source": [
    "## Changing the Values of a DataFrame using `loc[]`\n",
    "`loc[]` returns a `view` object, so **any changes made in the returned subset will be reflected in the original Dataframe object**."
   ]
  },
  {
   "cell_type": "code",
   "execution_count": null,
   "metadata": {},
   "outputs": [],
   "source": [
    "print(df)\n",
    "\n",
    "# Change the contents of row 'C' to 0\n",
    "df.loc['c'] = 0\n",
    "\n",
    "print(df)"
   ]
  }
 ],
 "metadata": {
  "kernelspec": {
   "display_name": "tf",
   "language": "python",
   "name": "python3"
  },
  "language_info": {
   "codemirror_mode": {
    "name": "ipython",
    "version": 3
   },
   "file_extension": ".py",
   "mimetype": "text/x-python",
   "name": "python",
   "nbconvert_exporter": "python",
   "pygments_lexer": "ipython3",
   "version": "3.10.8 | packaged by conda-forge | (main, Nov 24 2022, 14:07:00) [MSC v.1916 64 bit (AMD64)]"
  },
  "orig_nbformat": 4,
  "vscode": {
   "interpreter": {
    "hash": "114b31d85d4089baf4c997d981f398d0e90056ddd0589c98a1fe707d5b08ed11"
   }
  }
 },
 "nbformat": 4,
 "nbformat_minor": 2
}
