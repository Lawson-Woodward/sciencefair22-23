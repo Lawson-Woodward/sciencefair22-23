{
 "cells": [
  {
   "attachments": {},
   "cell_type": "markdown",
   "metadata": {},
   "source": [
    "##  Add/Remove DataFrame Rows & Columns"
   ]
  },
  {
   "attachments": {},
   "cell_type": "markdown",
   "metadata": {},
   "source": [
    "Starting DataFrame:"
   ]
  },
  {
   "cell_type": "code",
   "execution_count": null,
   "metadata": {},
   "outputs": [],
   "source": [
    "import pandas as pd\n",
    "\n",
    "# List of Tuples\n",
    "students = [('jack',    34, 'Sydney',   'Australia'),\n",
    "            ('Riti',    30, 'Delhi',    'India'),\n",
    "            ('Vikas',   31, 'Mumbai',   'India'),\n",
    "            ('Neelu',   32, 'Bangalore','India'),\n",
    "            ('John',    16, 'New York',  'US'),\n",
    "            ('Mike',    17, 'Las Vegas', 'US')]\n",
    "\n",
    "# Create a DataFrame object\n",
    "df = pd.DataFrame( students,\n",
    "                   columns=['Name', 'Age', 'City', 'Country'],\n",
    "                   index=  ['a', 'b', 'c', 'd', 'e', 'f'])\n",
    "                   \n",
    "# Display the DataFrame\n",
    "print(df)"
   ]
  },
  {
   "attachments": {},
   "cell_type": "markdown",
   "metadata": {},
   "source": [
    "### Add a Column to the DataFrame\n",
    "To add a new column in the DataFrame, pass the column name in the subscript operator `[]` of the DataFrame and assign new values to it.\n"
   ]
  },
  {
   "cell_type": "code",
   "execution_count": null,
   "metadata": {},
   "outputs": [],
   "source": [
    "# Add a new column to the DataFrame\n",
    "df['Budget'] = [2000, 3000, 4000, 3500, 4500, 2900]\n",
    "\n",
    "# Display the DataFrame\n",
    "print(df)"
   ]
  },
  {
   "attachments": {},
   "cell_type": "markdown",
   "metadata": {},
   "source": [
    "### Add a New Column with the Same Values\n",
    "To add a new column in the DataFrame with a similar value in each row, pass the column name in the subscript operator ([]) of the DataFrame and assign a `scalar` value."
   ]
  },
  {
   "cell_type": "code",
   "execution_count": null,
   "metadata": {},
   "outputs": [],
   "source": [
    "# Add a new column to the DataFrame\n",
    "df['Marks'] = 0\n",
    "\n",
    "# Display the DataFrame\n",
    "print(df)"
   ]
  },
  {
   "attachments": {},
   "cell_type": "markdown",
   "metadata": {},
   "source": [
    "### Changing Values of an Existing Column\n",
    "While using the subscript operator`[]` of a DataFrame, if you use a column that already exists, it will change the values of that column."
   ]
  },
  {
   "cell_type": "code",
   "execution_count": null,
   "metadata": {},
   "outputs": [],
   "source": [
    "# Change the values of a column\n",
    "df['Age'] = [31, 35, 36, 34, 31, 37]\n",
    "\n",
    "# Display the DataFrame\n",
    "print(df)"
   ]
  },
  {
   "attachments": {},
   "cell_type": "markdown",
   "metadata": {},
   "source": [
    "### Add a new Row to the DataFrame\n",
    "To add a new row to the DataFrame, pass the row index label in the `loc[]` property of the DataFrame and assign new row values."
   ]
  },
  {
   "cell_type": "code",
   "execution_count": null,
   "metadata": {},
   "outputs": [],
   "source": [
    "import pandas as pd\n",
    "\n",
    "# Add a new Row to the DataFrame\n",
    "df.loc['g'] = ['Aadi', 35, 'Delhi', 'India']\n",
    "\n",
    "# List of Tuples\n",
    "students = [('jack',    34, 'Sydney',   'Australia'),\n",
    "            ('Riti',    30, 'Delhi',    'India'),\n",
    "            ('Vikas',   31, 'Mumbai',   'India'),\n",
    "            ('Neelu',   32, 'Bangalore','India'),\n",
    "            ('John',    16, 'New York',  'US'),\n",
    "            ('Mike',    17, 'Las Vegas', 'US')]\n",
    "\n",
    "# Create a DataFrame object\n",
    "df = pd.DataFrame( students,\n",
    "                   columns=['Name', 'Age', 'City', 'Country'],\n",
    "                   index=  ['a', 'b', 'c', 'd', 'e', 'f'])\n",
    "                   \n",
    "# Display the DataFrame\n",
    "print(df)\n",
    "\n",
    "# Add a new Row to the DataFrame\n",
    "df.loc['j'] = ['Aadi', 35, 'Delhi', 'India']\n",
    "\n",
    "# Display the DataFrame\n",
    "print(df)\n",
    "\n",
    "# Add a new row with all of its values the same\n",
    "df.loc['v'] = 2\n",
    "print(df)"
   ]
  },
  {
   "attachments": {},
   "cell_type": "markdown",
   "metadata": {},
   "source": [
    " ###### Note: make sure that number of items provided in the list must be equal to the number of columns in the DataFrame, otherwise it will give `ValueError`"
   ]
  },
  {
   "attachments": {},
   "cell_type": "markdown",
   "metadata": {},
   "source": [
    "### Changing Existing Row Values\n",
    "While using the `loc[]` operator of DataFrame, if you use a row index label that already exists, it will change the values of that row contents. \n"
   ]
  },
  {
   "cell_type": "code",
   "execution_count": 7,
   "metadata": {},
   "outputs": [
    {
     "name": "stdout",
     "output_type": "stream",
     "text": [
      "     Name  Age       City    Country\n",
      "a    jack   34     Sydney  Australia\n",
      "b  Justin   45      Tokyo      Japan\n",
      "c   Vikas   31     Mumbai      India\n",
      "d   Neelu   32  Bangalore      India\n",
      "e    John   16   New York         US\n",
      "f    Mike   17  Las Vegas         US\n",
      "j    Aadi   35      Delhi      India\n",
      "v       2    2          2          2\n"
     ]
    }
   ],
   "source": [
    "# Change the values of existing row\n",
    "df.loc['b'] = ['Justin', 45, 'Tokyo', 'Japan']\n",
    "\n",
    "# Display the DataFrame\n",
    "print(df)"
   ]
  }
 ],
 "metadata": {
  "kernelspec": {
   "display_name": "tf",
   "language": "python",
   "name": "python3"
  },
  "language_info": {
   "codemirror_mode": {
    "name": "ipython",
    "version": 3
   },
   "file_extension": ".py",
   "mimetype": "text/x-python",
   "name": "python",
   "nbconvert_exporter": "python",
   "pygments_lexer": "ipython3",
   "version": "3.10.8 | packaged by conda-forge | (main, Nov 24 2022, 14:07:00) [MSC v.1916 64 bit (AMD64)]"
  },
  "orig_nbformat": 4,
  "vscode": {
   "interpreter": {
    "hash": "114b31d85d4089baf4c997d981f398d0e90056ddd0589c98a1fe707d5b08ed11"
   }
  }
 },
 "nbformat": 4,
 "nbformat_minor": 2
}
