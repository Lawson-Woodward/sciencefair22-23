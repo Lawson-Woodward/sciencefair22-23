{
 "cells": [
  {
   "attachments": {},
   "cell_type": "markdown",
   "metadata": {},
   "source": [
    "## Series Attribute & Methods\n",
    "We can access specific attributes (variables) and functionalities from the Series object."
   ]
  },
  {
   "attachments": {},
   "cell_type": "markdown",
   "metadata": {},
   "source": [
    "To assign a `name` for your series object, enter it as a parameter."
   ]
  },
  {
   "cell_type": "code",
   "execution_count": null,
   "metadata": {},
   "outputs": [],
   "source": [
    "import pandas as pd\n",
    "\n",
    "# Create a Series object from a list\n",
    "users = pd.Series(  ['Mark', 'Rita', 'Vicki', 'Justin', 'John', 'Michal'],\n",
    "                    index = ['a', 'b', 'c', 'd', 'e', 'f'],\n",
    "                    name = \"Students\")\n",
    "\n",
    "# Display the Pandas Series\n",
    "print(users)\n",
    "print(\"\\n 'users.name' modification:\")\n",
    "\n",
    "# Changing and displaying the name of the object\n",
    "users.name = \"Not Students\"\n",
    "print(users)"
   ]
  },
  {
   "attachments": {},
   "cell_type": "markdown",
   "metadata": {},
   "source": [
    "To extract the raw `values` only:"
   ]
  },
  {
   "cell_type": "code",
   "execution_count": null,
   "metadata": {},
   "outputs": [],
   "source": [
    "import pandas as pd\n",
    "\n",
    "# Create a Series object from a list\n",
    "users = pd.Series(  ['Mark', 'Rita', 'Vicki', 'Justin', 'John', 'Michal'],\n",
    "                    index = ['a', 'b', 'c', 'd', 'e', 'f'],\n",
    "                    name = \"Students\")\n",
    "\n",
    "# Display the Pandas Series\n",
    "print(users)\n",
    "\n",
    "# Display All values of the Series \n",
    "print(users.values) # returns a numpy array\n",
    "print(list(users.values)) # returns a list\n",
    "\n",
    "# Display type of the object returned by values attribute\n",
    "print(type(users.values))"
   ]
  },
  {
   "attachments": {},
   "cell_type": "markdown",
   "metadata": {},
   "source": [
    "Other fun methods:\n",
    "###### Still referencing the code block above, of course."
   ]
  },
  {
   "cell_type": "code",
   "execution_count": null,
   "metadata": {},
   "outputs": [],
   "source": [
    "# Display the size of the Series\n",
    "print(users.size)\n",
    "\n",
    "# Checks if the series object is empty\n",
    "print(users.empty)\n",
    "\n",
    "# Get the first 2 values in a series \n",
    "print(users.head(2))\n",
    "\n",
    "# Get the last 3 values in a series\n",
    "print(users.tail(3))"
   ]
  },
  {
   "attachments": {},
   "cell_type": "markdown",
   "metadata": {},
   "source": [
    "Both the `head()` and `tail()` methods can take in parameters longer than the length of the series, they just return the entire series."
   ]
  },
  {
   "cell_type": "code",
   "execution_count": null,
   "metadata": {},
   "outputs": [],
   "source": [
    "# Get the last 3 values in a series\n",
    "print(users.tail(2000))"
   ]
  },
  {
   "attachments": {},
   "cell_type": "markdown",
   "metadata": {},
   "source": [
    "### Counting the Amount of Valid Values in a Series \n",
    "Any valid value would be a `non-NaN` value."
   ]
  },
  {
   "cell_type": "code",
   "execution_count": 13,
   "metadata": {},
   "outputs": [
    {
     "name": "stdout",
     "output_type": "stream",
     "text": [
      "4\n"
     ]
    }
   ],
   "source": [
    "import pandas as pd\n",
    "import numpy as np\n",
    "\n",
    "# Create a Series object from a list\n",
    "users = pd.Series(['Mark', np.NaN, 'Vicki', 'Justin', np.NaN, 'Michal'])\n",
    "\n",
    "# Get count of non NaN values in Pandas Series\n",
    "count = users.count()\n",
    "\n",
    "print(count)"
   ]
  },
  {
   "attachments": {},
   "cell_type": "markdown",
   "metadata": {},
   "source": [
    "###### Note: `4` means that our of the entire series, only 4 values are not `NaN` (empty/null) "
   ]
  }
 ],
 "metadata": {
  "kernelspec": {
   "display_name": "Python 3",
   "language": "python",
   "name": "python3"
  },
  "language_info": {
   "codemirror_mode": {
    "name": "ipython",
    "version": 3
   },
   "file_extension": ".py",
   "mimetype": "text/x-python",
   "name": "python",
   "nbconvert_exporter": "python",
   "pygments_lexer": "ipython3",
   "version": "3.10.9 (tags/v3.10.9:1dd9be6, Dec  6 2022, 20:01:21) [MSC v.1934 64 bit (AMD64)]"
  },
  "orig_nbformat": 4,
  "vscode": {
   "interpreter": {
    "hash": "26de051ba29f2982a8de78e945f0abaf191376122a1563185a90213a26c5da77"
   }
  }
 },
 "nbformat": 4,
 "nbformat_minor": 2
}
