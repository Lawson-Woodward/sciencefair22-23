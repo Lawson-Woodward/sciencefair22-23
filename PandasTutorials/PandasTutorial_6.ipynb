{
 "cells": [
  {
   "attachments": {},
   "cell_type": "markdown",
   "metadata": {},
   "source": [
    "## Introduction to DataFrame\n",
    "https://www.youtube.com/watch?v=SPVlyL1tWxc\n",
    "\n",
    "A dataframe in Pandas is a special type of data structure that is represented in a `tabular` format so it is easier to work with (so usually 2D), meaning it stores values in `rows` and `columns` similar to an excel spreadsheet.   \n",
    "###### Each row as has an index label associated with it and each column has a column name associated with it. We can select and process individual rows, columns or cells in DataFrame.\n",
    "\n"
   ]
  },
  {
   "attachments": {},
   "cell_type": "markdown",
   "metadata": {},
   "source": [
    "### Creating a DataFrame\n",
    "The main way to create a DataFrame using Pandas is to simply load the contents of a `.csv` into your DataFrame."
   ]
  },
  {
   "attachments": {},
   "cell_type": "markdown",
   "metadata": {},
   "source": [
    "EXAMPLE DATAFRAME [.csv file]\n",
    "```\n",
    "Name,Age,City,Experience\n",
    "John,29,London,15\n",
    "Mark,24,New York,13\n",
    "Joseph,28,Tokyo,14\n",
    "Ritika,31,Delhi,11\n",
    "Vinod,33,Mumbai,13\n",
    "Saurav,31,Sydney,13\n",
    "Lucy,32,Paris,13\n",
    "```"
   ]
  },
  {
   "attachments": {},
   "cell_type": "markdown",
   "metadata": {},
   "source": [
    "The Pandas function `readcsv()` allows us to transfer the information from this `.csv` file into an actual `DataFrame`."
   ]
  },
  {
   "cell_type": "code",
   "execution_count": null,
   "metadata": {},
   "outputs": [],
   "source": [
    "import pandas as pd\n",
    "\n",
    "# Load the csv file and create a DataFrame object\n",
    "df = pd.read_csv('hw_200.csv')\n",
    "\n",
    "# Display the first 5 rows of the DataFrame\n",
    "print(df.head())"
   ]
  },
  {
   "attachments": {},
   "cell_type": "markdown",
   "metadata": {},
   "source": [
    "###### We called the `read_csv()` function and passed the `.CSV` file name as an argument in it. The read_csv() function loads the CSV file and returns a `DataFrame` object populated with that content. Then we printed the contents of the `DataFrame`."
   ]
  },
  {
   "attachments": {},
   "cell_type": "markdown",
   "metadata": {},
   "source": [
    "### Create DataFrame from dictionary and lists (**not necessary for our project**)\n",
    "Pandas module provides a function `Dataframe()`. In one of its `overloaded implementation`, it accepts a dictionary of lists as an argument. Each key-value pair of this dictionary contains the contents of a column. It means that the key acts as the column label, and the value is a list object, which includes the values of that particular column. It returns a dataframe object populated with all the provided values."
   ]
  },
  {
   "cell_type": "code",
   "execution_count": 14,
   "metadata": {},
   "outputs": [
    {
     "name": "stdout",
     "output_type": "stream",
     "text": [
      "     Name  Age      City  Experience\n",
      "0    John   29    London          15\n",
      "1    Mark   24     Tokyo          13\n",
      "2  Joseph   28     Delhi          14\n",
      "3  Ritika   31    Mumbai          11\n",
      "4   Vinod   33    Sydney          13\n",
      "5  Saurav   32     Paris          12\n",
      "6    Lucy   31  New York          15\n"
     ]
    }
   ],
   "source": [
    "import pandas as pd\n",
    "\n",
    "# Create a dictionary of lists\n",
    "employees = { 'Name': ['John', 'Mark', 'Joseph', 'Ritika', 'Vinod', 'Saurav', 'Lucy'],\n",
    "              'Age': [29, 24, 28, 31, 33, 32, 31],\n",
    "              'City': ['London', 'Tokyo', 'Delhi', 'Mumbai', 'Sydney', 'Paris', 'New York'],\n",
    "              'Experience': [15, 13, 14, 11, 13, 12, 15]}\n",
    "\n",
    "# Create a Pandas DataFrame from a list of Dictionaries\n",
    "df = pd.DataFrame(employees)\n",
    "\n",
    "# Display the DataFrame\n",
    "print(df)"
   ]
  }
 ],
 "metadata": {
  "kernelspec": {
   "display_name": "tf",
   "language": "python",
   "name": "python3"
  },
  "language_info": {
   "codemirror_mode": {
    "name": "ipython",
    "version": 3
   },
   "file_extension": ".py",
   "mimetype": "text/x-python",
   "name": "python",
   "nbconvert_exporter": "python",
   "pygments_lexer": "ipython3",
   "version": "3.10.8 | packaged by conda-forge | (main, Nov 24 2022, 14:07:00) [MSC v.1916 64 bit (AMD64)]"
  },
  "orig_nbformat": 4,
  "vscode": {
   "interpreter": {
    "hash": "114b31d85d4089baf4c997d981f398d0e90056ddd0589c98a1fe707d5b08ed11"
   }
  }
 },
 "nbformat": 4,
 "nbformat_minor": 2
}
