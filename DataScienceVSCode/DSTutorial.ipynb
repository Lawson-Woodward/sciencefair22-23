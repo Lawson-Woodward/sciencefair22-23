{
 "cells": [
  {
   "attachments": {},
   "cell_type": "markdown",
   "metadata": {},
   "source": [
    "<font size= \"6\">Prerequisites\n",
    "<font size= \"3\">\n",
    "- Visual Studio Code\n",
    "- VS Code Python Extension and VS Code jupyter Extension\n",
    "- Miniconda with Python 3.9"
   ]
  },
  {
   "attachments": {},
   "cell_type": "markdown",
   "metadata": {},
   "source": [
    "<font size= \"6\">Set Up A Data Science Envrioment\n",
    "<font size= \"3\">\n",
    "1. Create an Anaconda enviroment\n",
    "Run: conda create -n myenv python=3.9 pandas jupyter seaborn scikit-learn keras tensorflow\n",
    "\n",
    "2. Create a folder to serve as VS Code Workspace, name it hello_ds\n",
    "\n",
    "3. Open the project folder in VS Code by running VS Code and using the File > Open Folder command\n",
    "\n",
    "4. Once VS Code launces, create the Jupyter notebook. Open the cmd palette (Ctrl+Shift+P) and select Create: New Jupyter Notebook.\n",
    "\n",
    "5. File > Save As...hello.ipynb\n",
    "\n",
    "6. Select 'Select Kernel' top right of the nb\n",
    "\n",
    "7. Choose the Python enviroment created above in which to run your kernel"
   ]
  }
 ],
 "metadata": {
  "kernelspec": {
   "display_name": "base",
   "language": "python",
   "name": "python3"
  },
  "language_info": {
   "name": "python",
   "version": "3.9.12 (main, Apr  4 2022, 05:22:27) [MSC v.1916 64 bit (AMD64)]"
  },
  "orig_nbformat": 4,
  "vscode": {
   "interpreter": {
    "hash": "4dae9760ef841b5c2e2fe5c7af0f54af0c23a7295a7ae78f29d2bee523df43c8"
   }
  }
 },
 "nbformat": 4,
 "nbformat_minor": 2
}
